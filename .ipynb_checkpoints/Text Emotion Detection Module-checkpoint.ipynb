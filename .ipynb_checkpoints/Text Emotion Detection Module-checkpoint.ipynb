{
 "cells": [
  {
   "cell_type": "code",
   "execution_count": 24,
   "metadata": {
    "_cell_guid": "b1076dfc-b9ad-4769-8c92-a6c4dae69d19",
    "_uuid": "8f2839f25d086af736a60e9eeb907d3b93b6e0e5",
    "execution": {
     "iopub.execute_input": "2022-03-18T18:11:48.103475Z",
     "iopub.status.busy": "2022-03-18T18:11:48.103153Z",
     "iopub.status.idle": "2022-03-18T18:11:48.109971Z",
     "shell.execute_reply": "2022-03-18T18:11:48.108968Z",
     "shell.execute_reply.started": "2022-03-18T18:11:48.103439Z"
    }
   },
   "outputs": [],
   "source": [
    "import pandas as pd\n",
    "import numpy as np\n",
    "import seaborn as sns\n",
    "from sklearn.model_selection import train_test_split\n",
    "from sklearn.preprocessing import LabelEncoder\n",
    "import tensorflow as tf\n",
    "from tensorflow.keras.models import Sequential\n",
    "from tensorflow.keras import layers\n",
    "from tensorflow.keras.preprocessing.sequence import pad_sequences\n",
    "from tensorflow.keras.preprocessing.text import Tokenizer\n",
    "from sklearn.metrics import classification_report\n",
    "import matplotlib.pyplot as plt"
   ]
  },
  {
   "cell_type": "code",
   "execution_count": 25,
   "metadata": {
    "execution": {
     "iopub.execute_input": "2022-03-18T18:11:48.390906Z",
     "iopub.status.busy": "2022-03-18T18:11:48.390450Z",
     "iopub.status.idle": "2022-03-18T18:11:48.459763Z",
     "shell.execute_reply": "2022-03-18T18:11:48.458932Z",
     "shell.execute_reply.started": "2022-03-18T18:11:48.390868Z"
    }
   },
   "outputs": [
    {
     "data": {
      "text/html": [
       "<div>\n",
       "<style scoped>\n",
       "    .dataframe tbody tr th:only-of-type {\n",
       "        vertical-align: middle;\n",
       "    }\n",
       "\n",
       "    .dataframe tbody tr th {\n",
       "        vertical-align: top;\n",
       "    }\n",
       "\n",
       "    .dataframe thead th {\n",
       "        text-align: right;\n",
       "    }\n",
       "</style>\n",
       "<table border=\"1\" class=\"dataframe\">\n",
       "  <thead>\n",
       "    <tr style=\"text-align: right;\">\n",
       "      <th></th>\n",
       "      <th>content</th>\n",
       "      <th>sentiment</th>\n",
       "    </tr>\n",
       "  </thead>\n",
       "  <tbody>\n",
       "    <tr>\n",
       "      <th>0</th>\n",
       "      <td>Sometimes I’m not angry, I’m hurt and there’s ...</td>\n",
       "      <td>angry</td>\n",
       "    </tr>\n",
       "    <tr>\n",
       "      <th>1</th>\n",
       "      <td>Not available for busy people☺</td>\n",
       "      <td>angry</td>\n",
       "    </tr>\n",
       "    <tr>\n",
       "      <th>2</th>\n",
       "      <td>I do not exist to impress the world. I exist t...</td>\n",
       "      <td>angry</td>\n",
       "    </tr>\n",
       "    <tr>\n",
       "      <th>3</th>\n",
       "      <td>Everything is getting expensive except some pe...</td>\n",
       "      <td>angry</td>\n",
       "    </tr>\n",
       "    <tr>\n",
       "      <th>4</th>\n",
       "      <td>My phone screen is brighter than my future 🙁</td>\n",
       "      <td>angry</td>\n",
       "    </tr>\n",
       "    <tr>\n",
       "      <th>...</th>\n",
       "      <td>...</td>\n",
       "      <td>...</td>\n",
       "    </tr>\n",
       "    <tr>\n",
       "      <th>8633</th>\n",
       "      <td>@shonali I think the lesson of the day is not ...</td>\n",
       "      <td>neutral</td>\n",
       "    </tr>\n",
       "    <tr>\n",
       "      <th>8634</th>\n",
       "      <td>@lovelylisaj can you give me the link for the ...</td>\n",
       "      <td>neutral</td>\n",
       "    </tr>\n",
       "    <tr>\n",
       "      <th>8635</th>\n",
       "      <td>@jasimmo Ooo showing of your French skills!! l...</td>\n",
       "      <td>neutral</td>\n",
       "    </tr>\n",
       "    <tr>\n",
       "      <th>8636</th>\n",
       "      <td>@sendsome2me haha, yeah. Twitter has many uses...</td>\n",
       "      <td>neutral</td>\n",
       "    </tr>\n",
       "    <tr>\n",
       "      <th>8637</th>\n",
       "      <td>@JohnLloydTaylor</td>\n",
       "      <td>neutral</td>\n",
       "    </tr>\n",
       "  </tbody>\n",
       "</table>\n",
       "<p>10677 rows × 2 columns</p>\n",
       "</div>"
      ],
      "text/plain": [
       "                                                content sentiment\n",
       "0     Sometimes I’m not angry, I’m hurt and there’s ...     angry\n",
       "1                        Not available for busy people☺     angry\n",
       "2     I do not exist to impress the world. I exist t...     angry\n",
       "3     Everything is getting expensive except some pe...     angry\n",
       "4          My phone screen is brighter than my future 🙁     angry\n",
       "...                                                 ...       ...\n",
       "8633  @shonali I think the lesson of the day is not ...   neutral\n",
       "8634  @lovelylisaj can you give me the link for the ...   neutral\n",
       "8635  @jasimmo Ooo showing of your French skills!! l...   neutral\n",
       "8636  @sendsome2me haha, yeah. Twitter has many uses...   neutral\n",
       "8637                                   @JohnLloydTaylor   neutral\n",
       "\n",
       "[10677 rows x 2 columns]"
      ]
     },
     "execution_count": 25,
     "metadata": {},
     "output_type": "execute_result"
    }
   ],
   "source": [
    "angry=pd.read_csv('Text Dataset/Emotion(angry).csv')\n",
    "happy=pd.read_csv('Text Dataset/Emotion(happy).csv')\n",
    "sad=pd.read_csv('Text Dataset/Emotion(sad).csv')\n",
    "neutral=pd.read_csv('Text Dataset/Emotion(neutral).csv')\n",
    "\n",
    "df = pd.concat([angry,happy,sad,neutral])\n",
    "df"
   ]
  },
  {
   "cell_type": "code",
   "execution_count": 26,
   "metadata": {
    "execution": {
     "iopub.execute_input": "2022-03-18T18:11:48.579641Z",
     "iopub.status.busy": "2022-03-18T18:11:48.579357Z",
     "iopub.status.idle": "2022-03-18T18:11:48.789164Z",
     "shell.execute_reply": "2022-03-18T18:11:48.788298Z",
     "shell.execute_reply.started": "2022-03-18T18:11:48.579609Z"
    }
   },
   "outputs": [
    {
     "name": "stderr",
     "output_type": "stream",
     "text": [
      "C:\\Users\\Bilal\\anaconda3\\envs\\Bilal\\lib\\site-packages\\seaborn\\_decorators.py:43: FutureWarning: Pass the following variables as keyword args: x, y. From version 0.12, the only valid positional argument will be `data`, and passing other arguments without an explicit keyword will result in an error or misinterpretation.\n",
      "  FutureWarning\n"
     ]
    },
    {
     "data": {
      "text/plain": [
       "neutral    8638\n",
       "happy       708\n",
       "angry       696\n",
       "sad         635\n",
       "Name: sentiment, dtype: int64"
      ]
     },
     "execution_count": 26,
     "metadata": {},
     "output_type": "execute_result"
    },
    {
     "data": {
      "image/png": "[encoded data removed]",
      "text/plain": [
       "<Figure size 432x288 with 1 Axes>"
      ]
     },
     "metadata": {},
     "output_type": "display_data"
    }
   ],
   "source": [
    "count_values = df['sentiment'].value_counts()\n",
    "sns.set(style=\"whitegrid\")\n",
    "sns.barplot(count_values.index,count_values.values)\n",
    "count_values"
   ]
  },
  {
   "cell_type": "code",
   "execution_count": 27,
   "metadata": {
    "execution": {
     "iopub.execute_input": "2022-03-18T18:11:49.005111Z",
     "iopub.status.busy": "2022-03-18T18:11:49.004838Z",
     "iopub.status.idle": "2022-03-18T18:11:49.339668Z",
     "shell.execute_reply": "2022-03-18T18:11:49.339001Z",
     "shell.execute_reply.started": "2022-03-18T18:11:49.005082Z"
    }
   },
   "outputs": [],
   "source": [
    "import re\n",
    "def remove_hashtags(text):\n",
    "    text = re.sub(r'@\\w+', '', text)\n",
    "    return text\n",
    "def remove_emojis(text):\n",
    "    text = [x for x in text.split(' ') if x.isalpha()]\n",
    "    text = ' '.join(text)\n",
    "    return text\n",
    "def remove_emoji(string):\n",
    "    emoji_pattern = re.compile(\"[\"\n",
    "                               u\"\\U0001F600-\\U0001F64F\"  # emoticons\n",
    "                               u\"\\U0001F300-\\U0001F5FF\"  # symbols & pictographs\n",
    "                               u\"\\U0001F680-\\U0001F6FF\"  # transport & map symbols\n",
    "                               u\"\\U0001F1E0-\\U0001F1FF\"  # flags (iOS)\n",
    "                               u\"\\U00002500-\\U00002BEF\"  # chinese char\n",
    "                               u\"\\U00002702-\\U000027B0\"\n",
    "                               u\"\\U00002702-\\U000027B0\"\n",
    "                               u\"\\U000024C2-\\U0001F251\"\n",
    "                               u\"\\U0001f926-\\U0001f937\"\n",
    "                               u\"\\U00010000-\\U0010ffff\"\n",
    "                               u\"\\u2640-\\u2642\"\n",
    "                               u\"\\u2600-\\u2B55\"\n",
    "                               u\"\\u200d\"\n",
    "                               u\"\\u23cf\"\n",
    "                               u\"\\u23e9\"\n",
    "                               u\"\\u231a\"\n",
    "                               u\"\\ufe0f\"  # dingbats\n",
    "                               u\"\\u3030\"\n",
    "                               \"]+\", flags=re.UNICODE)\n",
    "    return emoji_pattern.sub(r'', string)\n",
    "\n",
    "def remove_urls(text):\n",
    "    text = re.sub(r'http\\S+', '', text)\n",
    "    return text\n",
    "def preprocess(text):\n",
    "    text = remove_hashtags(text)\n",
    "    text = remove_emoji(text)\n",
    "    text = remove_urls(text)\n",
    "    return text\n",
    "\n",
    "df['content'] = df['content'].apply(preprocess)\n"
   ]
  },
  {
   "cell_type": "code",
   "execution_count": 28,
   "metadata": {
    "execution": {
     "iopub.execute_input": "2022-03-18T18:11:49.341484Z",
     "iopub.status.busy": "2022-03-18T18:11:49.340899Z",
     "iopub.status.idle": "2022-03-18T18:11:49.374970Z",
     "shell.execute_reply": "2022-03-18T18:11:49.374072Z",
     "shell.execute_reply.started": "2022-03-18T18:11:49.341447Z"
    }
   },
   "outputs": [
    {
     "name": "stdout",
     "output_type": "stream",
     "text": [
      "(696, 2)\n",
      "(700, 2)\n",
      "(700, 2)\n",
      "(635, 2)\n"
     ]
    }
   ],
   "source": [
    "# df.drop_duplicates(inplace=True)\n",
    "# df.dropna(inplace=True)\n",
    "df_data=pd.DataFrame(columns=['content','sentiment'])\n",
    "for i in np.unique(df['sentiment']):\n",
    "    temp=df.loc[df['sentiment']==i].iloc[:700]\n",
    "    print(temp.shape)\n",
    "    df_data=df_data.append(temp,ignore_index=True)\n",
    "    \n",
    "X=df_data['content']\n",
    "Y=df_data['sentiment']\n",
    "df_data.shape\n",
    "\n",
    "enc=LabelEncoder()\n",
    "Y=enc.fit_transform(Y)"
   ]
  },
  {
   "cell_type": "code",
   "execution_count": 29,
   "metadata": {
    "execution": {
     "iopub.execute_input": "2022-03-18T18:11:49.456219Z",
     "iopub.status.busy": "2022-03-18T18:11:49.455912Z",
     "iopub.status.idle": "2022-03-18T18:11:49.680896Z",
     "shell.execute_reply": "2022-03-18T18:11:49.680040Z",
     "shell.execute_reply.started": "2022-03-18T18:11:49.456178Z"
    }
   },
   "outputs": [
    {
     "name": "stderr",
     "output_type": "stream",
     "text": [
      "C:\\Users\\Bilal\\anaconda3\\envs\\Bilal\\lib\\site-packages\\seaborn\\_decorators.py:43: FutureWarning: Pass the following variables as keyword args: x, y. From version 0.12, the only valid positional argument will be `data`, and passing other arguments without an explicit keyword will result in an error or misinterpretation.\n",
      "  FutureWarning\n"
     ]
    },
    {
     "data": {
      "text/plain": [
       "happy      700\n",
       "neutral    700\n",
       "angry      696\n",
       "sad        635\n",
       "Name: sentiment, dtype: int64"
      ]
     },
     "execution_count": 29,
     "metadata": {},
     "output_type": "execute_result"
    },
    {
     "data": {
      "image/png": "[encoded data removed]",
      "text/plain": [
       "<Figure size 432x288 with 1 Axes>"
      ]
     },
     "metadata": {},
     "output_type": "display_data"
    }
   ],
   "source": [
    "count_values = df_data['sentiment'].value_counts()\n",
    "sns.set(style=\"whitegrid\")\n",
    "sns.barplot(count_values.index,count_values.values)\n",
    "count_values"
   ]
  },
  {
   "cell_type": "code",
   "execution_count": 30,
   "metadata": {
    "execution": {
     "iopub.execute_input": "2022-03-18T18:11:52.227029Z",
     "iopub.status.busy": "2022-03-18T18:11:52.226582Z",
     "iopub.status.idle": "2022-03-18T18:11:52.234084Z",
     "shell.execute_reply": "2022-03-18T18:11:52.233495Z",
     "shell.execute_reply.started": "2022-03-18T18:11:52.226981Z"
    }
   },
   "outputs": [],
   "source": [
    "X_train , X_test ,y_train,y_test = train_test_split(X,Y,test_size=0.3,stratify=Y,random_state=42)"
   ]
  },
  {
   "cell_type": "code",
   "execution_count": 31,
   "metadata": {
    "execution": {
     "iopub.execute_input": "2022-03-18T18:11:52.906279Z",
     "iopub.status.busy": "2022-03-18T18:11:52.905813Z",
     "iopub.status.idle": "2022-03-18T18:11:52.916909Z",
     "shell.execute_reply": "2022-03-18T18:11:52.915905Z",
     "shell.execute_reply.started": "2022-03-18T18:11:52.906230Z"
    }
   },
   "outputs": [],
   "source": [
    "from sklearn.feature_extraction.text import CountVectorizer\n",
    "from sklearn.feature_extraction.text import TfidfTransformer\n",
    "from sklearn.metrics import classification_report,confusion_matrix\n",
    "from sklearn.pipeline import Pipeline\n",
    "import seaborn as sns\n",
    "\n",
    "def train_model(model, data, targets):\n",
    "    text_clf = Pipeline([\n",
    "    ('vect', CountVectorizer(analyzer='char_wb',ngram_range=(4,7),stop_words='english')),\n",
    "    ('tfidf', TfidfTransformer()),\n",
    "    ('clf', model),\n",
    "    ])\n",
    "    text_clf.fit(data, targets)\n",
    "    return text_clf\n",
    "def get_accuracy(trained_model,X, y):\n",
    "    predicted = trained_model.predict(X)\n",
    "    accuracy = np.mean(predicted == y)\n",
    "    return accuracy\n",
    "def get_report(trained_model,X, y):\n",
    "    plt.figure(figsize=(10,10))\n",
    "    predicted = trained_model.predict(X)\n",
    "    cr = classification_report(y,predicted,target_names=enc.classes_)\n",
    "    cm=confusion_matrix(y,predicted)\n",
    "    df_cm=pd.DataFrame(cm,index=enc.classes_)\n",
    "    sns.heatmap(df_cm, annot=True,annot_kws={\"size\": 10},fmt='g') # font size\n",
    "    plt.show()\n",
    "    print(cr)"
   ]
  },
  {
   "cell_type": "markdown",
   "metadata": {},
   "source": [
    "## LogisticRegression"
   ]
  },
  {
   "cell_type": "code",
   "execution_count": 9,
   "metadata": {
    "execution": {
     "iopub.execute_input": "2022-03-18T18:11:54.147018Z",
     "iopub.status.busy": "2022-03-18T18:11:54.146548Z",
     "iopub.status.idle": "2022-03-18T18:12:09.419195Z",
     "shell.execute_reply": "2022-03-18T18:12:09.418429Z",
     "shell.execute_reply.started": "2022-03-18T18:11:54.146966Z"
    }
   },
   "outputs": [
    {
     "name": "stdout",
     "output_type": "stream",
     "text": [
      "Test dataset accuracy with LogisticRegression: 0.79\n"
     ]
    },
    {
     "data": {
      "image/png": "[encoded data removed]",
      "text/plain": [
       "<Figure size 720x720 with 2 Axes>"
      ]
     },
     "metadata": {},
     "output_type": "display_data"
    },
    {
     "name": "stdout",
     "output_type": "stream",
     "text": [
      "              precision    recall  f1-score   support\n",
      "\n",
      "       angry       0.84      0.79      0.81       209\n",
      "       happy       0.75      0.63      0.68       210\n",
      "     neutral       0.77      0.95      0.85       210\n",
      "         sad       0.78      0.77      0.78       191\n",
      "\n",
      "    accuracy                           0.79       820\n",
      "   macro avg       0.79      0.79      0.78       820\n",
      "weighted avg       0.79      0.79      0.78       820\n",
      "\n"
     ]
    }
   ],
   "source": [
    "from sklearn.linear_model import LogisticRegression\n",
    "trained_clf_LogisticRegression = train_model(LogisticRegression(), X_train, y_train)\n",
    "accuracy = get_accuracy(trained_clf_LogisticRegression,X_test, y_test)\n",
    "print(f\"Test dataset accuracy with LogisticRegression: {accuracy:.2f}\")\n",
    "get_report(trained_clf_LogisticRegression,X_test, y_test)"
   ]
  },
  {
   "cell_type": "markdown",
   "metadata": {},
   "source": [
    "## SVM"
   ]
  },
  {
   "cell_type": "code",
   "execution_count": 10,
   "metadata": {
    "execution": {
     "iopub.execute_input": "2022-03-18T18:12:09.421804Z",
     "iopub.status.busy": "2022-03-18T18:12:09.421311Z",
     "iopub.status.idle": "2022-03-18T18:12:33.163905Z",
     "shell.execute_reply": "2022-03-18T18:12:33.162958Z",
     "shell.execute_reply.started": "2022-03-18T18:12:09.421750Z"
    }
   },
   "outputs": [
    {
     "name": "stdout",
     "output_type": "stream",
     "text": [
      "Test dataset accuracy with LinearSVC: 0.79\n"
     ]
    },
    {
     "data": {
      "image/png": "[encoded data removed]",
      "text/plain": [
       "<Figure size 720x720 with 2 Axes>"
      ]
     },
     "metadata": {},
     "output_type": "display_data"
    },
    {
     "name": "stdout",
     "output_type": "stream",
     "text": [
      "              precision    recall  f1-score   support\n",
      "\n",
      "       angry       0.87      0.80      0.83       209\n",
      "       happy       0.74      0.67      0.70       210\n",
      "     neutral       0.75      0.96      0.84       210\n",
      "         sad       0.84      0.74      0.79       191\n",
      "\n",
      "    accuracy                           0.79       820\n",
      "   macro avg       0.80      0.79      0.79       820\n",
      "weighted avg       0.80      0.79      0.79       820\n",
      "\n"
     ]
    }
   ],
   "source": [
    "from sklearn.svm import SVC\n",
    "trained_clf_linearSVC = train_model(SVC(), X_train, y_train)\n",
    "accuracy = get_accuracy(trained_clf_linearSVC,X_test, y_test)\n",
    "print(f\"Test dataset accuracy with LinearSVC: {accuracy:.2f}\")\n",
    "get_report(trained_clf_linearSVC,X_test, y_test)\n"
   ]
  },
  {
   "cell_type": "markdown",
   "metadata": {},
   "source": [
    "## MLP"
   ]
  },
  {
   "cell_type": "code",
   "execution_count": 15,
   "metadata": {
    "execution": {
     "iopub.execute_input": "2022-03-18T18:12:33.165550Z",
     "iopub.status.busy": "2022-03-18T18:12:33.165270Z",
     "iopub.status.idle": "2022-03-18T18:12:53.737147Z",
     "shell.execute_reply": "2022-03-18T18:12:53.736440Z",
     "shell.execute_reply.started": "2022-03-18T18:12:33.165518Z"
    }
   },
   "outputs": [
    {
     "name": "stdout",
     "output_type": "stream",
     "text": [
      "Iteration 1, loss = 1.32978496\n",
      "Iteration 2, loss = 1.12346987\n",
      "Iteration 3, loss = 0.92360233\n"
     ]
    },
    {
     "name": "stderr",
     "output_type": "stream",
     "text": [
      "C:\\Users\\Bilal\\anaconda3\\envs\\Bilal\\lib\\site-packages\\sklearn\\neural_network\\_multilayer_perceptron.py:617: ConvergenceWarning: Stochastic Optimizer: Maximum iterations (3) reached and the optimization hasn't converged yet.\n",
      "  % self.max_iter, ConvergenceWarning)\n"
     ]
    },
    {
     "name": "stdout",
     "output_type": "stream",
     "text": [
      "Test dataset accuracy with MLPClassifier: 0.75\n"
     ]
    },
    {
     "data": {
      "image/png": "[encoded data removed]",
      "text/plain": [
       "<Figure size 720x720 with 2 Axes>"
      ]
     },
     "metadata": {},
     "output_type": "display_data"
    },
    {
     "name": "stdout",
     "output_type": "stream",
     "text": [
      "              precision    recall  f1-score   support\n",
      "\n",
      "       angry       0.82      0.72      0.77       209\n",
      "       happy       0.73      0.55      0.63       210\n",
      "     neutral       0.84      0.89      0.87       210\n",
      "         sad       0.62      0.84      0.72       191\n",
      "\n",
      "    accuracy                           0.75       820\n",
      "   macro avg       0.76      0.75      0.75       820\n",
      "weighted avg       0.76      0.75      0.75       820\n",
      "\n"
     ]
    }
   ],
   "source": [
    "from sklearn.neural_network import MLPClassifier\n",
    "trained_clf_MLPClassifier = train_model(MLPClassifier(verbose=1,max_iter=3,validation_fraction=0.1), X_train, y_train)\n",
    "accuracy = get_accuracy(trained_clf_MLPClassifier,X_test, y_test)\n",
    "print(f\"Test dataset accuracy with MLPClassifier: {accuracy:.2f}\")\n",
    "get_report(trained_clf_MLPClassifier,X_test, y_test)"
   ]
  },
  {
   "cell_type": "markdown",
   "metadata": {},
   "source": [
    "## Decision Tree"
   ]
  },
  {
   "cell_type": "code",
   "execution_count": 16,
   "metadata": {
    "execution": {
     "iopub.execute_input": "2022-03-18T18:12:53.739486Z",
     "iopub.status.busy": "2022-03-18T18:12:53.738774Z",
     "iopub.status.idle": "2022-03-18T18:13:05.425303Z",
     "shell.execute_reply": "2022-03-18T18:13:05.424419Z",
     "shell.execute_reply.started": "2022-03-18T18:12:53.739449Z"
    }
   },
   "outputs": [
    {
     "name": "stdout",
     "output_type": "stream",
     "text": [
      "Test dataset accuracy with Decision Tree: 0.70\n"
     ]
    },
    {
     "data": {
      "image/png": "[encoded data removed]",
      "text/plain": [
       "<Figure size 720x720 with 2 Axes>"
      ]
     },
     "metadata": {},
     "output_type": "display_data"
    },
    {
     "name": "stdout",
     "output_type": "stream",
     "text": [
      "              precision    recall  f1-score   support\n",
      "\n",
      "       angry       0.75      0.80      0.78       209\n",
      "       happy       0.61      0.53      0.57       210\n",
      "     neutral       0.74      0.76      0.75       210\n",
      "         sad       0.68      0.70      0.69       191\n",
      "\n",
      "    accuracy                           0.70       820\n",
      "   macro avg       0.69      0.70      0.70       820\n",
      "weighted avg       0.69      0.70      0.70       820\n",
      "\n"
     ]
    }
   ],
   "source": [
    "from sklearn.tree import DecisionTreeClassifier\n",
    "trained_clf_DT = train_model(DecisionTreeClassifier(), X_train, y_train)\n",
    "accuracy = get_accuracy(trained_clf_DT,X_test, y_test)\n",
    "print(f\"Test dataset accuracy with Decision Tree: {accuracy:.2f}\")\n",
    "get_report(trained_clf_DT,X_test, y_test)\n"
   ]
  },
  {
   "cell_type": "markdown",
   "metadata": {},
   "source": [
    "## Random Forest"
   ]
  },
  {
   "cell_type": "code",
   "execution_count": 17,
   "metadata": {
    "execution": {
     "iopub.execute_input": "2022-03-18T18:16:20.141610Z",
     "iopub.status.busy": "2022-03-18T18:16:20.140954Z",
     "iopub.status.idle": "2022-03-18T18:16:42.014849Z",
     "shell.execute_reply": "2022-03-18T18:16:42.013942Z",
     "shell.execute_reply.started": "2022-03-18T18:16:20.141563Z"
    }
   },
   "outputs": [
    {
     "name": "stdout",
     "output_type": "stream",
     "text": [
      "Test dataset accuracy with Random Forest: 0.76\n"
     ]
    },
    {
     "data": {
      "image/png": "[encoded data removed]",
      "text/plain": [
       "<Figure size 720x720 with 2 Axes>"
      ]
     },
     "metadata": {},
     "output_type": "display_data"
    },
    {
     "name": "stdout",
     "output_type": "stream",
     "text": [
      "              precision    recall  f1-score   support\n",
      "\n",
      "       angry       0.79      0.85      0.82       209\n",
      "       happy       0.75      0.59      0.66       210\n",
      "     neutral       0.74      0.91      0.81       210\n",
      "         sad       0.79      0.70      0.74       191\n",
      "\n",
      "    accuracy                           0.76       820\n",
      "   macro avg       0.77      0.76      0.76       820\n",
      "weighted avg       0.77      0.76      0.76       820\n",
      "\n"
     ]
    }
   ],
   "source": [
    "from sklearn.ensemble import RandomForestClassifier\n",
    "trained_clf_RF = train_model(RandomForestClassifier(n_estimators=200), X_train, y_train)\n",
    "accuracy = get_accuracy(trained_clf_RF,X_test, y_test)\n",
    "print(f\"Test dataset accuracy with Random Forest: {accuracy:.2f}\")\n",
    "get_report(trained_clf_RF,X_test, y_test)\n"
   ]
  },
  {
   "cell_type": "code",
   "execution_count": 18,
   "metadata": {
    "execution": {
     "iopub.execute_input": "2022-03-18T18:16:42.017714Z",
     "iopub.status.busy": "2022-03-18T18:16:42.017087Z",
     "iopub.status.idle": "2022-03-18T18:16:42.023736Z",
     "shell.execute_reply": "2022-03-18T18:16:42.023044Z",
     "shell.execute_reply.started": "2022-03-18T18:16:42.017664Z"
    }
   },
   "outputs": [],
   "source": [
    "def predict(model,text):\n",
    "    text=pd.Series(text)\n",
    "    pred=model.predict(text)\n",
    "    print(enc.classes_[pred][0])"
   ]
  },
  {
   "cell_type": "code",
   "execution_count": 21,
   "metadata": {
    "execution": {
     "iopub.execute_input": "2022-03-18T18:17:13.221325Z",
     "iopub.status.busy": "2022-03-18T18:17:13.221042Z",
     "iopub.status.idle": "2022-03-18T18:17:13.233049Z",
     "shell.execute_reply": "2022-03-18T18:17:13.232135Z",
     "shell.execute_reply.started": "2022-03-18T18:17:13.221296Z"
    }
   },
   "outputs": [
    {
     "name": "stdout",
     "output_type": "stream",
     "text": [
      "neutral\n"
     ]
    }
   ],
   "source": [
    "predict(trained_clf_linearSVC,\"Apart from what I saw there, I noticed that this is not a good thing to do. I am dissappointed\" )"
   ]
  },
  {
   "cell_type": "code",
   "execution_count": 22,
   "metadata": {
    "execution": {
     "iopub.execute_input": "2022-03-18T18:19:07.143630Z",
     "iopub.status.busy": "2022-03-18T18:19:07.142790Z",
     "iopub.status.idle": "2022-03-18T18:19:07.154307Z",
     "shell.execute_reply": "2022-03-18T18:19:07.153614Z",
     "shell.execute_reply.started": "2022-03-18T18:19:07.143577Z"
    }
   },
   "outputs": [
    {
     "name": "stdout",
     "output_type": "stream",
     "text": [
      "neutral\n"
     ]
    }
   ],
   "source": [
    "predict(trained_clf_linearSVC,\"i'm so good\" )"
   ]
  },
  {
   "cell_type": "code",
   "execution_count": 23,
   "metadata": {
    "execution": {
     "iopub.execute_input": "2022-03-18T18:19:25.464214Z",
     "iopub.status.busy": "2022-03-18T18:19:25.463849Z",
     "iopub.status.idle": "2022-03-18T18:19:25.473890Z",
     "shell.execute_reply": "2022-03-18T18:19:25.472780Z",
     "shell.execute_reply.started": "2022-03-18T18:19:25.464170Z"
    }
   },
   "outputs": [
    {
     "name": "stdout",
     "output_type": "stream",
     "text": [
      "angry\n"
     ]
    }
   ],
   "source": [
    "predict(trained_clf_linearSVC,\"i'm so angry\" )"
   ]
  }
 ],
 "metadata": {
  "kernelspec": {
   "display_name": "Python 3 (ipykernel)",
   "language": "python",
   "name": "python3"
  },
  "language_info": {
   "codemirror_mode": {
    "name": "ipython",
    "version": 3
   },
   "file_extension": ".py",
   "mimetype": "text/x-python",
   "name": "python",
   "nbconvert_exporter": "python",
   "pygments_lexer": "ipython3",
   "version": "3.7.11"
  }
 },
 "nbformat": 4,
 "nbformat_minor": 4
}
